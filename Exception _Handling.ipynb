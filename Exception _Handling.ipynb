{
 "cells": [
  {
   "cell_type": "code",
   "execution_count": 5,
   "id": "85d04758-4050-41ca-95f0-29b508d6f3df",
   "metadata": {},
   "outputs": [
    {
     "name": "stdin",
     "output_type": "stream",
     "text": [
      "Enter a number:  0\n"
     ]
    },
    {
     "ename": "NameError",
     "evalue": "name 'valueError' is not defined",
     "output_type": "error",
     "traceback": [
      "\u001b[1;31m---------------------------------------------------------------------------\u001b[0m",
      "\u001b[1;31mZeroDivisionError\u001b[0m                         Traceback (most recent call last)",
      "Cell \u001b[1;32mIn[5], line 4\u001b[0m\n\u001b[0;32m      3\u001b[0m num \u001b[38;5;241m=\u001b[39m \u001b[38;5;28mint\u001b[39m(\u001b[38;5;28minput\u001b[39m(\u001b[38;5;124m\"\u001b[39m\u001b[38;5;124mEnter a number: \u001b[39m\u001b[38;5;124m\"\u001b[39m))\n\u001b[1;32m----> 4\u001b[0m result \u001b[38;5;241m=\u001b[39m \u001b[38;5;241m10\u001b[39m\u001b[38;5;241m/\u001b[39mnum\n\u001b[0;32m      5\u001b[0m \u001b[38;5;28mprint\u001b[39m(\u001b[38;5;124mf\u001b[39m\u001b[38;5;124m\"\u001b[39m\u001b[38;5;124mThe result is \u001b[39m\u001b[38;5;132;01m{\u001b[39;00mresult\u001b[38;5;132;01m}\u001b[39;00m\u001b[38;5;124m\"\u001b[39m)\n",
      "\u001b[1;31mZeroDivisionError\u001b[0m: division by zero",
      "\nDuring handling of the above exception, another exception occurred:\n",
      "\u001b[1;31mNameError\u001b[0m                                 Traceback (most recent call last)",
      "Cell \u001b[1;32mIn[5], line 6\u001b[0m\n\u001b[0;32m      4\u001b[0m     result \u001b[38;5;241m=\u001b[39m \u001b[38;5;241m10\u001b[39m\u001b[38;5;241m/\u001b[39mnum\n\u001b[0;32m      5\u001b[0m     \u001b[38;5;28mprint\u001b[39m(\u001b[38;5;124mf\u001b[39m\u001b[38;5;124m\"\u001b[39m\u001b[38;5;124mThe result is \u001b[39m\u001b[38;5;132;01m{\u001b[39;00mresult\u001b[38;5;132;01m}\u001b[39;00m\u001b[38;5;124m\"\u001b[39m)\n\u001b[1;32m----> 6\u001b[0m \u001b[38;5;28;01mexcept\u001b[39;00m valueError:\n\u001b[0;32m      7\u001b[0m     \u001b[38;5;28mprint\u001b[39m(\u001b[38;5;124mf\u001b[39m\u001b[38;5;124m\"\u001b[39m\u001b[38;5;124mThat\u001b[39m\u001b[38;5;124m'\u001b[39m\u001b[38;5;124ms not a valid number!\u001b[39m\u001b[38;5;124m\"\u001b[39m)\n\u001b[0;32m      8\u001b[0m \u001b[38;5;28;01mexcept\u001b[39;00m \u001b[38;5;167;01mZeroDivisionError\u001b[39;00m:\n",
      "\u001b[1;31mNameError\u001b[0m: name 'valueError' is not defined"
     ]
    }
   ],
   "source": [
    "# Python uses try, except, else, and finally blocks to manage exceptions.\n",
    "try:\n",
    "    num = int(input(\"Enter a number: \"))\n",
    "    result = 10/num\n",
    "    print(f\"The result is {result}\")\n",
    "except valueError:\n",
    "    print(f\"That's not a valid number!\")\n",
    "except ZeroDivisionError:\n",
    "    print(\"You cannot divide by zero!\")\n",
    "\n",
    "\n",
    "Using else and finally\n",
    "You can also use else for code that should only run if there’s no exception, and finally for code that should always run.\n",
    "\n",
    "\n",
    "try:\n",
    "    num = int(input(\"Enter a number: \"))\n",
    "    result = 10 / num\n",
    "except ValueError:\n",
    "    print(\"That's not a valid number!\")\n",
    "except ZeroDivisionError:\n",
    "    print(\"You cannot divide by zero!\")\n",
    "else:\n",
    "    print(f\"The result is {result}\")\n",
    "finally:\n",
    "    print(\"This runs no matter what, good for cleanup tasks.\")\n",
    "\n",
    "\n",
    "# Catching Multiple Exceptions Together\n",
    "#You can handle multiple exceptions in one block or catch all exceptions using Exception.\n",
    "\n",
    "try:\n",
    "    num = int(input(\"Enter a number: \"))\n",
    "    result = 10 / num\n",
    "except (ValueError, ZeroDivisionError) as e:\n",
    "    # Handles both ValueError and ZeroDivisionError\n",
    "    print(f\"An error occurred: {e}\")\n",
    "except Exception as e:\n",
    "    # Catches any other exception\n",
    "    print(f\"An unexpected error occurred: {e}\")\n",
    "\n",
    "\n",
    "#Raising Your Own Exceptions\n",
    "#You can also raise exceptions manually using the raise keyword.\n",
    "\n",
    "def check_age(age):\n",
    "    if age < 18:\n",
    "        raise ValueError(\"You must be 18 or older.\")\n",
    "    else:\n",
    "        print(\"You are allowed to proceed.\")\n",
    "\n",
    "try:\n",
    "    check_age(15)\n",
    "except ValueError as e:\n",
    "    print(e)\n"
   ]
  },
  {
   "cell_type": "code",
   "execution_count": 15,
   "id": "e26146e5-904d-4ea4-91f3-3fb85482be31",
   "metadata": {},
   "outputs": [
    {
     "name": "stdin",
     "output_type": "stream",
     "text": [
      "Enter any number:  ama\n"
     ]
    },
    {
     "ename": "NameError",
     "evalue": "name 'valueError' is not defined",
     "output_type": "error",
     "traceback": [
      "\u001b[1;31m---------------------------------------------------------------------------\u001b[0m",
      "\u001b[1;31mValueError\u001b[0m                                Traceback (most recent call last)",
      "Cell \u001b[1;32mIn[15], line 2\u001b[0m\n\u001b[0;32m      1\u001b[0m \u001b[38;5;28;01mtry\u001b[39;00m :\n\u001b[1;32m----> 2\u001b[0m     num \u001b[38;5;241m=\u001b[39m \u001b[38;5;28mint\u001b[39m(\u001b[38;5;28minput\u001b[39m(\u001b[38;5;124m\"\u001b[39m\u001b[38;5;124mEnter any number: \u001b[39m\u001b[38;5;124m\"\u001b[39m))\n\u001b[0;32m      3\u001b[0m     result \u001b[38;5;241m=\u001b[39m \u001b[38;5;241m10\u001b[39m\u001b[38;5;241m/\u001b[39mnum\n",
      "\u001b[1;31mValueError\u001b[0m: invalid literal for int() with base 10: 'ama'",
      "\nDuring handling of the above exception, another exception occurred:\n",
      "\u001b[1;31mNameError\u001b[0m                                 Traceback (most recent call last)",
      "Cell \u001b[1;32mIn[15], line 5\u001b[0m\n\u001b[0;32m      3\u001b[0m     result \u001b[38;5;241m=\u001b[39m \u001b[38;5;241m10\u001b[39m\u001b[38;5;241m/\u001b[39mnum\n\u001b[0;32m      4\u001b[0m     \u001b[38;5;28mprint\u001b[39m(\u001b[38;5;124mf\u001b[39m\u001b[38;5;124m\"\u001b[39m\u001b[38;5;124mYou have entered a wrong number\u001b[39m\u001b[38;5;132;01m{\u001b[39;00mresult\u001b[38;5;132;01m}\u001b[39;00m\u001b[38;5;124m\"\u001b[39m)\n\u001b[1;32m----> 5\u001b[0m \u001b[38;5;28;01mexcept\u001b[39;00m valueError:\n\u001b[0;32m      6\u001b[0m     \u001b[38;5;28mprint\u001b[39m(\u001b[38;5;124m\"\u001b[39m\u001b[38;5;124mThat\u001b[39m\u001b[38;5;124m'\u001b[39m\u001b[38;5;124ms not a valid number\u001b[39m\u001b[38;5;124m\"\u001b[39m)\n\u001b[0;32m      7\u001b[0m \u001b[38;5;28;01mexcept\u001b[39;00m \u001b[38;5;167;01mZeroDivisionError\u001b[39;00m:\n",
      "\u001b[1;31mNameError\u001b[0m: name 'valueError' is not defined"
     ]
    }
   ],
   "source": [
    "try :\n",
    "    num = int(input(\"Enter any number: \"))\n",
    "    result = 10/num\n",
    "    print(f\"You have entered a wrong number{result}\")\n",
    "except valueError:\n",
    "    print(\"That's not a valid number\")\n",
    "except ZeroDivisionError:\n",
    "    print(\"You cannot divide by zero!\")\n",
    "\n",
    "\n",
    "\n",
    "\n",
    "#Main correct code \n",
    "try:\n",
    "    # Code that might raise an exception\n",
    "    num = int(input(\"Enter a number: \"))  # This can raise ValueError if input is not a number\n",
    "    result = 10 / num  # This can raise ZeroDivisionError if num is 0\n",
    "    print(f\"The result is {result}\")\n",
    "except ValueError:\n",
    "    # Handles the case where input is not an integer\n",
    "    print(\"That's not a valid number!\")\n",
    "except ZeroDivisionError:\n",
    "    # Handles the case where the user tries to divide by zero\n",
    "    print(\"You cannot divide by zero!\")\n",
    "\n",
    "\n",
    "#Using else and finally\n",
    "try:\n",
    "    num = int(input(\"Enter a number: \"))\n",
    "    result = 10/num\n",
    "except ValueError:\n",
    "    print(\"That's not a valid number!)\n",
    "    except ZeroDivisionError:\n",
    "    print(\"You cannot divide by zero\")\n",
    "    else:\n",
    "    print(f\"The result is {result}\")\n",
    "    finally:\n",
    "    print(\"This runs no matter what , good for cleanup tasks. \")\n",
    "          \n",
    "\n",
    "  "
   ]
  },
  {
   "cell_type": "code",
   "execution_count": null,
   "id": "cd9f99ba-8977-4484-b54e-6a0cbf600472",
   "metadata": {},
   "outputs": [],
   "source": [
    "#Variables\n",
    "#Class: Class contains properties are static example name, occupation and methods are actionable . example speaking\n",
    "\n",
    "class Human:\n",
    "    def_init_(self,name,occupation):\n",
    "    self.name = name\n",
    "    self.occupation = occupation\n",
    "\n",
    "def do_work(self):\n",
    "    if self.occupation == \"tennis player\":\n",
    "        print(self.name, \"plays tennis\")\n",
    "    elif self.occupation == \"actor\":\n",
    "        print(self.name, \"shoots a film\")\n",
    "\n",
    "\n",
    "def speaks(self):\n",
    "    print(self.name, \"says how are you\")\n",
    "\n",
    "tom = Human(\"tom cruise\", \"actor\")\n",
    "tom.do_work()\n",
    "tom.speaks()\n",
    "\n",
    "\n",
    "maria = Human(\"maria sharappa\",\n",
    "\n"
   ]
  },
  {
   "cell_type": "code",
   "execution_count": 19,
   "id": "30fb5428-3394-4789-a67d-e4330dc57359",
   "metadata": {},
   "outputs": [
    {
     "name": "stdout",
     "output_type": "stream",
     "text": [
      "Car: 2021 Toyota Corolla\n",
      "The engine of Toyota Corolla is now running.\n"
     ]
    }
   ],
   "source": [
    "# Define a class called Car\n",
    "class Car:\n",
    "    # Constructor method to initialize attributes\n",
    "    def __init__(self, brand, model, year):\n",
    "        self.brand = brand  # Attribute\n",
    "        self.model = model  # Attribute\n",
    "        self.year = year    # Attribute\n",
    "\n",
    "    # Method to display car information\n",
    "    def display_info(self):\n",
    "        print(f\"Car: {self.year} {self.brand} {self.model}\")\n",
    "\n",
    "    # Method to start the car\n",
    "    def start_engine(self):\n",
    "        print(f\"The engine of {self.brand} {self.model} is now running.\")\n",
    "\n",
    "# Create an instance (object) of the Car class\n",
    "my_car = Car(\"Toyota\", \"Corolla\", 2021)\n",
    "\n",
    "# Accessing attributes and methods\n",
    "my_car.display_info()  # Output: Car: 2021 Toyota Corolla\n",
    "my_car.start_engine()  # Output: The engine of Toyota Corolla is now running.\n",
    "\n"
   ]
  },
  {
   "cell_type": "code",
   "execution_count": 30,
   "id": "08bb159c-3814-43ce-9de0-49a297d3c9db",
   "metadata": {},
   "outputs": [
    {
     "ename": "IndentationError",
     "evalue": "unindent does not match any outer indentation level (<string>, line 6)",
     "output_type": "error",
     "traceback": [
      "\u001b[1;36m  File \u001b[1;32m<string>:6\u001b[1;36m\u001b[0m\n\u001b[1;33m    print(f\"The animals we have are {monkey}{tiger}\")\u001b[0m\n\u001b[1;37m                                                     ^\u001b[0m\n\u001b[1;31mIndentationError\u001b[0m\u001b[1;31m:\u001b[0m unindent does not match any outer indentation level\n"
     ]
    }
   ],
   "source": [
    "class Animals:\n",
    "     def_init_(self,monkey, tiger)\n",
    "     self.monkey = monkey\n",
    "     self.tiger = tiger\n",
    "     def display(self,animals):\n",
    "    print(f\"The animals we have are {monkey}{tiger}\")\n",
    "\n",
    "\n",
    "#Corrected code \n",
    "class Animals:\n",
    "    # Correct constructor method\n",
    "    def __init__(self, monkey, tiger):\n",
    "        self.monkey = monkey\n",
    "        self.tiger = tiger\n",
    "    \n",
    "    # Correct display method\n",
    "    def display(self):\n",
    "        print(f\"The animals we have are {self.monkey} and {self.tiger}\")\n",
    "\n",
    "# Create an instance of Animals\n",
    "zoo_animals = Animals(\"Chimpanzee\", \"Bengal Tiger\")\n",
    "\n",
    "# Call the display method\n",
    "zoo_animals.display()\n",
    "\n",
    "    \n"
   ]
  },
  {
   "cell_type": "code",
   "execution_count": null,
   "id": "df22aa0d-027e-4e35-92d2-ca26ebcc0819",
   "metadata": {},
   "outputs": [],
   "source": [
    "#Inheritance\n",
    "class Vehicle:\n",
    "    def general_usage(self):\n",
    "        print(\"general use: transportation\")\n",
    "        class Car(Vehicle)\n",
    "        def_init_(self):\n",
    "        print(\"specific use: commute to work,vacation with family\")\n",
    "        class Motocycle(vehicle):\n",
    "            def_init_(self):\n",
    "            print(\"I'm motor cycle\")\n",
    "            self.wheels = 4\n",
    "            self.has_roof = True\n",
    "        \n"
   ]
  },
  {
   "cell_type": "code",
   "execution_count": null,
   "id": "7019d539-6795-418b-8fb3-7cf1077e25c5",
   "metadata": {},
   "outputs": [],
   "source": []
  },
  {
   "cell_type": "code",
   "execution_count": null,
   "id": "c46a8d74-45cc-47ae-a46e-0acfb141d229",
   "metadata": {},
   "outputs": [],
   "source": []
  },
  {
   "cell_type": "code",
   "execution_count": null,
   "id": "aee32dd7-e859-46e3-8a94-e8e379f222db",
   "metadata": {},
   "outputs": [],
   "source": []
  },
  {
   "cell_type": "code",
   "execution_count": null,
   "id": "99581909-b39f-4b47-b36d-804025a148a6",
   "metadata": {},
   "outputs": [],
   "source": []
  },
  {
   "cell_type": "code",
   "execution_count": null,
   "id": "7314f7a8-9689-4c48-8640-217af6f2e2a3",
   "metadata": {},
   "outputs": [],
   "source": []
  },
  {
   "cell_type": "code",
   "execution_count": null,
   "id": "5f238ddf-6486-4e1c-ba51-17c988078dda",
   "metadata": {},
   "outputs": [],
   "source": []
  },
  {
   "cell_type": "code",
   "execution_count": null,
   "id": "af2e863f-8008-4fea-a73b-024af5de0f35",
   "metadata": {},
   "outputs": [],
   "source": []
  },
  {
   "cell_type": "code",
   "execution_count": null,
   "id": "9be487d0-31af-4e84-bb12-7db4fc3f7149",
   "metadata": {},
   "outputs": [],
   "source": []
  },
  {
   "cell_type": "code",
   "execution_count": null,
   "id": "0412ccda-a39b-4936-bfd1-320064fb72da",
   "metadata": {},
   "outputs": [],
   "source": []
  },
  {
   "cell_type": "code",
   "execution_count": null,
   "id": "e7fd52f0-d00c-47d6-a9b5-40d20cd8ed45",
   "metadata": {},
   "outputs": [],
   "source": []
  },
  {
   "cell_type": "code",
   "execution_count": null,
   "id": "4ef718c7-79d7-446d-b228-53718a86af97",
   "metadata": {},
   "outputs": [],
   "source": []
  },
  {
   "cell_type": "code",
   "execution_count": null,
   "id": "1b24da63-e385-4fdd-a9c4-558a6bea4ff9",
   "metadata": {},
   "outputs": [],
   "source": []
  },
  {
   "cell_type": "code",
   "execution_count": null,
   "id": "6184ab4c-6e15-41f6-95da-ed594d9eaefb",
   "metadata": {},
   "outputs": [],
   "source": []
  },
  {
   "cell_type": "code",
   "execution_count": null,
   "id": "69f5cd92-d3c2-4afb-81ae-e7f395d4bf21",
   "metadata": {},
   "outputs": [],
   "source": []
  },
  {
   "cell_type": "code",
   "execution_count": null,
   "id": "80296f72-5b57-48b5-ae38-b16a5c94bf1a",
   "metadata": {},
   "outputs": [],
   "source": []
  },
  {
   "cell_type": "code",
   "execution_count": null,
   "id": "f1ce46f6-7e02-4c1b-8085-6b6a823bd82b",
   "metadata": {},
   "outputs": [],
   "source": []
  },
  {
   "cell_type": "code",
   "execution_count": null,
   "id": "9b882594-182f-4920-806a-c45e6e944acb",
   "metadata": {},
   "outputs": [],
   "source": []
  },
  {
   "cell_type": "code",
   "execution_count": null,
   "id": "c17dd22f-155a-4c6c-958b-ea2077eb249d",
   "metadata": {},
   "outputs": [],
   "source": []
  },
  {
   "cell_type": "code",
   "execution_count": null,
   "id": "0433b38a-bf27-4d4c-943b-0312cd84e8da",
   "metadata": {},
   "outputs": [],
   "source": []
  },
  {
   "cell_type": "code",
   "execution_count": null,
   "id": "5a4bee7c-29de-4d64-8ef0-39c239e6ea94",
   "metadata": {},
   "outputs": [],
   "source": []
  },
  {
   "cell_type": "code",
   "execution_count": null,
   "id": "ca694378-8a8b-4c9b-ab06-148fe1547296",
   "metadata": {},
   "outputs": [],
   "source": []
  },
  {
   "cell_type": "code",
   "execution_count": null,
   "id": "88f9fb1b-2e46-461c-9753-51131d04cf35",
   "metadata": {},
   "outputs": [],
   "source": []
  },
  {
   "cell_type": "code",
   "execution_count": null,
   "id": "21e264c1-057a-4123-8a57-057750a7d212",
   "metadata": {},
   "outputs": [],
   "source": []
  },
  {
   "cell_type": "code",
   "execution_count": null,
   "id": "17a8f040-dd6d-4fa6-801c-a1edc3d0b645",
   "metadata": {},
   "outputs": [],
   "source": []
  },
  {
   "cell_type": "code",
   "execution_count": null,
   "id": "dbb6df84-12b0-43df-b932-62871ee86a29",
   "metadata": {},
   "outputs": [],
   "source": []
  },
  {
   "cell_type": "code",
   "execution_count": null,
   "id": "3be919ae-0157-44de-94a2-8afb98758bf3",
   "metadata": {},
   "outputs": [],
   "source": []
  },
  {
   "cell_type": "code",
   "execution_count": null,
   "id": "bc6b0795-5049-4d73-89e6-51bb8bcb17ab",
   "metadata": {},
   "outputs": [],
   "source": []
  },
  {
   "cell_type": "code",
   "execution_count": null,
   "id": "c7e3452f-e772-465b-9e42-3424c4113d9c",
   "metadata": {},
   "outputs": [],
   "source": []
  },
  {
   "cell_type": "code",
   "execution_count": null,
   "id": "5b070a71-56b7-4b33-8043-57d29efcf555",
   "metadata": {},
   "outputs": [],
   "source": []
  },
  {
   "cell_type": "code",
   "execution_count": null,
   "id": "1ad65018-d3fd-414f-8001-b9d1603ea9bc",
   "metadata": {},
   "outputs": [],
   "source": []
  },
  {
   "cell_type": "code",
   "execution_count": null,
   "id": "2f31126d-5cf1-4dd9-9293-9998dcf3c650",
   "metadata": {},
   "outputs": [],
   "source": []
  },
  {
   "cell_type": "code",
   "execution_count": null,
   "id": "745459ae-3517-4b25-abae-fd286c19c3c6",
   "metadata": {},
   "outputs": [],
   "source": []
  },
  {
   "cell_type": "code",
   "execution_count": null,
   "id": "27d3c46b-2d29-4992-914a-aa478df311b5",
   "metadata": {},
   "outputs": [],
   "source": []
  },
  {
   "cell_type": "code",
   "execution_count": null,
   "id": "dae765f6-f427-48da-b806-2ea4791fc105",
   "metadata": {},
   "outputs": [],
   "source": []
  },
  {
   "cell_type": "code",
   "execution_count": null,
   "id": "16d6a105-3c45-45b3-b211-126f7c77f716",
   "metadata": {},
   "outputs": [],
   "source": []
  },
  {
   "cell_type": "code",
   "execution_count": null,
   "id": "957fe2fc-a9bf-4cd9-8083-eef9f1539d98",
   "metadata": {},
   "outputs": [],
   "source": []
  }
 ],
 "metadata": {
  "kernelspec": {
   "display_name": "Python 3 (ipykernel)",
   "language": "python",
   "name": "python3"
  },
  "language_info": {
   "codemirror_mode": {
    "name": "ipython",
    "version": 3
   },
   "file_extension": ".py",
   "mimetype": "text/x-python",
   "name": "python",
   "nbconvert_exporter": "python",
   "pygments_lexer": "ipython3",
   "version": "3.12.4"
  }
 },
 "nbformat": 4,
 "nbformat_minor": 5
}
